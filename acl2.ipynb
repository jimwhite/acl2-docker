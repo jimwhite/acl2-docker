{
 "cells": [
  {
   "cell_type": "code",
   "execution_count": 1,
   "id": "9e68f949-05f4-4f9a-b9a3-54cbcb99505a",
   "metadata": {},
   "outputs": [
    {
     "data": {
      "text/plain": [
       "3"
      ]
     },
     "execution_count": 1,
     "metadata": {},
     "output_type": "execute_result"
    }
   ],
   "source": [
    "(+ 1 2)"
   ]
  },
  {
   "cell_type": "code",
   "execution_count": 4,
   "id": "85bfe231-d1e7-4884-a083-16839126442a",
   "metadata": {},
   "outputs": [
    {
     "data": {
      "text/plain": [
       "NIL"
      ]
     },
     "execution_count": 4,
     "metadata": {},
     "output_type": "execute_result"
    }
   ],
   "source": [
    "(defthm (equal T T))"
   ]
  },
  {
   "cell_type": "code",
   "execution_count": 3,
   "id": "66460c48-7fea-465f-90d4-5a19dc11631f",
   "metadata": {},
   "outputs": [
    {
     "data": {
      "text/plain": [
       "#<PACKAGE \"ACL2\">"
      ]
     },
     "execution_count": 3,
     "metadata": {},
     "output_type": "execute_result"
    }
   ],
   "source": [
    "(in-package \"ACL2\")"
   ]
  },
  {
   "cell_type": "code",
   "execution_count": 5,
   "id": "b59e7986-d485-4e11-a5d9-81356a7d1140",
   "metadata": {},
   "outputs": [
    {
     "name": "stdout",
     "output_type": "stream",
     "text": [
      "\n",
      " ++++++++++++++++++++++++++++++++++++++++++++++++++++++++++++++++++++++++\n",
      " + ACL2 Version 8.6+ (a development snapshot based on ACL2 Version 8.6) +\n",
      " +   built August 18, 2025  07:31:25.                                   +\n",
      " +   (Note from the environment when this executable was saved:         +\n",
      " +    Git commit hash: c38fe75c3615c58ce841878fcf1e3d88e0138d80)        +\n",
      " + Copyright (C) 2025, Regents of the University of Texas.              +\n",
      " + ACL2 comes with ABSOLUTELY NO WARRANTY.  This is free software and   +\n",
      " + you are welcome to redistribute it under certain conditions.  For    +\n",
      " + details, see the LICENSE file distributed with ACL2.                 +\n",
      " ++++++++++++++++++++++++++++++++++++++++++++++++++++++++++++++++++++++++\n",
      "\n",
      "Project-dir-alist:\n",
      "((:SYSTEM . \"/home/acl2/books/\")).\n",
      "Type :help for help.\n",
      "Type (quit) to quit completely out of ACL2.\n",
      "\n",
      "ACL2 !>"
     ]
    },
    {
     "name": "stdin",
     "output_type": "stream",
     "text": [
      " (defthm (equal T T))\n"
     ]
    },
    {
     "name": "stdout",
     "output_type": "stream",
     "text": [
      "\n",
      "\n",
      "ACL2 Error [Translate] in macro expansion:  Wrong number of args in\n",
      "macro expansion of (DEFTHM (EQUAL T T)).\n",
      "\n",
      "ACL2 !>"
     ]
    },
    {
     "name": "stdin",
     "output_type": "stream",
     "text": [
      " :q\n"
     ]
    },
    {
     "name": "stdout",
     "output_type": "stream",
     "text": [
      "\n",
      "Exiting the ACL2 read-eval-print loop.  To re-enter, execute (LP)."
     ]
    }
   ],
   "source": [
    "(LP)"
   ]
  },
  {
   "cell_type": "code",
   "execution_count": 6,
   "id": "4725fd40-8026-42ed-a4e5-e8c298819645",
   "metadata": {},
   "outputs": [
    {
     "data": {
      "text/plain": [
       "NIL"
      ]
     },
     "execution_count": 6,
     "metadata": {},
     "output_type": "execute_result"
    }
   ],
   "source": [
    "(defthm t_is_t (equal T T))"
   ]
  },
  {
   "cell_type": "code",
   "execution_count": 7,
   "id": "32fe8a9c-25bb-43ff-a792-413cbeb53c6d",
   "metadata": {},
   "outputs": [
    {
     "data": {
      "text/plain": [
       "NIL"
      ]
     },
     "execution_count": 7,
     "metadata": {},
     "output_type": "execute_result"
    }
   ],
   "source": [
    "(defthm t_is_f (equal T NIL))"
   ]
  },
  {
   "cell_type": "code",
   "execution_count": 8,
   "id": "bc1cdebc-21e6-4bbb-b20d-edef5d1e222e",
   "metadata": {},
   "outputs": [
    {
     "data": {
      "text/plain": [
       "NIL"
      ]
     },
     "execution_count": 8,
     "metadata": {},
     "output_type": "execute_result"
    },
    {
     "data": {
      "text/plain": [
       ":EOF"
      ]
     },
     "execution_count": 8,
     "metadata": {},
     "output_type": "execute_result"
    },
    {
     "data": {
      "text/plain": [
       "ACL2_INVISIBLE::|The Live State Itself|"
      ]
     },
     "execution_count": 8,
     "metadata": {},
     "output_type": "execute_result"
    },
    {
     "name": "stdout",
     "output_type": "stream",
     "text": [
      "3\n"
     ]
    }
   ],
   "source": [
    "(ld '((+ 1 2))\n",
    "    :ld-error-action :return\n",
    "    :ld-verbose nil\n",
    "    :ld-prompt nil\n",
    "    :ld-pre-eval-print nil)"
   ]
  },
  {
   "cell_type": "code",
   "execution_count": 10,
   "id": "dab07648-d7df-4fd8-8d28-f3f5ea1c4878",
   "metadata": {},
   "outputs": [
    {
     "name": "stdout",
     "output_type": "stream",
     "text": [
      "\n",
      "Project-dir-alist:\n",
      "((:SYSTEM . \"/home/acl2/books/\")).\n",
      "Type :help for help.\n",
      "Type (quit) to quit completely out of ACL2.\n",
      "\n",
      "ACL2 !>\n",
      "\n",
      "ACL2 Error in ( DEFTHM T_IS_T ...):  A :REWRITE rule generated from\n",
      "T_IS_T is illegal because it rewrites the term 'T to itself!  This\n",
      "can happen even when you submit a rule whose left and right sides appear\n",
      "to be different, in the case that those two sides represent the same\n",
      "term (for example, after macroexpansion).  For general information\n",
      "about rewrite rules in ACL2, see :DOC rewrite.  You may wish to consider\n",
      "submitting a DEFTHM event ending with :RULE-CLASSES NIL.\n",
      "\n",
      "\n",
      "Summary\n",
      "Form:  ( DEFTHM T_IS_T ...)\n",
      "Rules: NIL\n",
      "Time:  0.00 seconds (prove: 0.00, print: 0.00, other: 0.00)\n",
      "\n",
      "ACL2 Error [Failure] in ( DEFTHM T_IS_T ...):  See :DOC failure.\n",
      "\n",
      "******** FAILED ********\n"
     ]
    },
    {
     "data": {
      "text/plain": [
       "NIL"
      ]
     },
     "execution_count": 10,
     "metadata": {},
     "output_type": "execute_result"
    },
    {
     "data": {
      "text/plain": [
       "(:STOP-LD 1)"
      ]
     },
     "execution_count": 10,
     "metadata": {},
     "output_type": "execute_result"
    },
    {
     "data": {
      "text/plain": [
       "ACL2_INVISIBLE::|The Live State Itself|"
      ]
     },
     "execution_count": 10,
     "metadata": {},
     "output_type": "execute_result"
    }
   ],
   "source": [
    "(ld '((defthm t_is_t (equal T T))))"
   ]
  },
  {
   "cell_type": "code",
   "execution_count": 11,
   "id": "85b80a10-9213-4e2d-91cf-d57b5244bbc7",
   "metadata": {},
   "outputs": [
    {
     "name": "stdout",
     "output_type": "stream",
     "text": [
      "\n",
      "Project-dir-alist:\n",
      "((:SYSTEM . \"/home/acl2/books/\")).\n",
      "Type :help for help.\n",
      "Type (quit) to quit completely out of ACL2.\n",
      "\n",
      "ACL2 !>\n",
      "\n",
      "ACL2 Error in ( DEFTHM T_IS_T ...):  A :REWRITE rule generated from\n",
      "T_IS_T is illegal because it rewrites the term X to itself!  This can\n",
      "happen even when you submit a rule whose left and right sides appear\n",
      "to be different, in the case that those two sides represent the same\n",
      "term (for example, after macroexpansion).  For general information\n",
      "about rewrite rules in ACL2, see :DOC rewrite.  You may wish to consider\n",
      "submitting a DEFTHM event ending with :RULE-CLASSES NIL.\n",
      "\n",
      "\n",
      "Summary\n",
      "Form:  ( DEFTHM T_IS_T ...)\n",
      "Rules: NIL\n",
      "Time:  0.00 seconds (prove: 0.00, print: 0.00, other: 0.00)\n",
      "\n",
      "ACL2 Error [Failure] in ( DEFTHM T_IS_T ...):  See :DOC failure.\n",
      "\n",
      "******** FAILED ********\n"
     ]
    },
    {
     "data": {
      "text/plain": [
       "NIL"
      ]
     },
     "execution_count": 11,
     "metadata": {},
     "output_type": "execute_result"
    },
    {
     "data": {
      "text/plain": [
       "(:STOP-LD 1)"
      ]
     },
     "execution_count": 11,
     "metadata": {},
     "output_type": "execute_result"
    },
    {
     "data": {
      "text/plain": [
       "ACL2_INVISIBLE::|The Live State Itself|"
      ]
     },
     "execution_count": 11,
     "metadata": {},
     "output_type": "execute_result"
    }
   ],
   "source": [
    "(ld '((defthm t_is_t (equal X X))))"
   ]
  },
  {
   "cell_type": "code",
   "execution_count": 12,
   "id": "33cc4121-7f2c-48cc-a7a4-7b625be26a08",
   "metadata": {},
   "outputs": [
    {
     "name": "stdout",
     "output_type": "stream",
     "text": [
      "\n",
      "Project-dir-alist:\n",
      "((:SYSTEM . \"/home/acl2/books/\")).\n",
      "Type :help for help.\n",
      "Type (quit) to quit completely out of ACL2.\n",
      "\n",
      "ACL2 !>\n",
      "Q.E.D.\n",
      "\n",
      "Summary\n",
      "Form:  ( DEFTHM T_IS_T ...)\n",
      "Rules: ((:FAKE-RUNE-FOR-TYPE-SET NIL))\n",
      "Time:  0.00 seconds (prove: 0.00, print: 0.00, other: 0.00)\n",
      " T_IS_T\n",
      "ACL2 !>"
     ]
    },
    {
     "data": {
      "text/plain": [
       "NIL"
      ]
     },
     "execution_count": 12,
     "metadata": {},
     "output_type": "execute_result"
    },
    {
     "data": {
      "text/plain": [
       ":EOF"
      ]
     },
     "execution_count": 12,
     "metadata": {},
     "output_type": "execute_result"
    },
    {
     "data": {
      "text/plain": [
       "ACL2_INVISIBLE::|The Live State Itself|"
      ]
     },
     "execution_count": 12,
     "metadata": {},
     "output_type": "execute_result"
    },
    {
     "name": "stdout",
     "output_type": "stream",
     "text": [
      "Bye.\n"
     ]
    }
   ],
   "source": [
    "(ld '((defthm t_is_t (equal X X) :RULE-CLASSES NIL)))"
   ]
  },
  {
   "cell_type": "code",
   "execution_count": 13,
   "id": "3dc90f7b-33bc-4db7-b27c-81bbd524c548",
   "metadata": {},
   "outputs": [
    {
     "data": {
      "text/plain": [
       "NIL"
      ]
     },
     "execution_count": 13,
     "metadata": {},
     "output_type": "execute_result"
    },
    {
     "name": "stdout",
     "output_type": "stream",
     "text": [
      "3\n"
     ]
    }
   ],
   "source": [
    "(let ((acl2-result\n",
    "        (ld '((+ 1 2))\n",
    "            :ld-error-action :return\n",
    "            :ld-verbose nil\n",
    "            :ld-prompt nil\n",
    "            :ld-pre-eval-print nil)))\n",
    "  ;; Extract results, print or return as needed\n",
    "  acl2-result)\n"
   ]
  },
  {
   "cell_type": "code",
   "execution_count": null,
   "id": "586c75b0-5d0b-47e0-9dbf-163cf35c1dd4",
   "metadata": {},
   "outputs": [],
   "source": []
  }
 ],
 "metadata": {
  "kernelspec": {
   "display_name": "Common Lisp (ACL2)",
   "language": "common-lisp",
   "name": "common-lisp_sbcl"
  },
  "language_info": {
   "codemirror_mode": "text/x-common-lisp",
   "file_extension": ".lisp",
   "mimetype": "text/x-common-lisp",
   "name": "common-lisp",
   "pygments_lexer": "common-lisp",
   "version": "2.5.7"
  }
 },
 "nbformat": 4,
 "nbformat_minor": 5
}
